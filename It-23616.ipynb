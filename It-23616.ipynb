{
  "nbformat": 4,
  "nbformat_minor": 0,
  "metadata": {
    "colab": {
      "provenance": [],
      "authorship_tag": "ABX9TyPLp71OwS5zogENwheOfyBu",
      "include_colab_link": true
    },
    "kernelspec": {
      "name": "python3",
      "display_name": "Python 3"
    },
    "language_info": {
      "name": "python"
    }
  },
  "cells": [
    {
      "cell_type": "markdown",
      "metadata": {
        "id": "view-in-github",
        "colab_type": "text"
      },
      "source": [
        "<a href=\"https://colab.research.google.com/github/Tarikul182/Advanced-Cryptography-IT-23616-/blob/main/It-23616.ipynb\" target=\"_parent\"><img src=\"https://colab.research.google.com/assets/colab-badge.svg\" alt=\"Open In Colab\"/></a>"
      ]
    },
    {
      "cell_type": "code",
      "execution_count": null,
      "metadata": {
        "id": "wkMyjAdfWE3W"
      },
      "outputs": [],
      "source": []
    },
    {
      "cell_type": "markdown",
      "source": [
        "one time pad\n"
      ],
      "metadata": {
        "id": "H06VHdXkWHSb"
      }
    },
    {
      "cell_type": "code",
      "source": [
        "import random\n",
        "\n",
        "def generate_otp_key(length, seed):\n",
        "    \"\"\"\n",
        "    Generate a pseudo-random OTP key based on a seed (e.g., user's name).\n",
        "    \"\"\"\n",
        "    random.seed(seed)  # Use the seed to initialize the PRNG\n",
        "    return [random.randint(0, 95) for _ in range(length)]  # Ensure key values are within range for printable characters\n",
        "\n",
        "def encrypt(message, seed):\n",
        "    \"\"\"\n",
        "    Encrypt a message using a one-time pad derived from the seed.\n",
        "    The encrypted message will consist of printable characters.\n",
        "    \"\"\"\n",
        "    key = generate_otp_key(len(message), seed)\n",
        "    encrypted = ''.join(chr(((ord(char) - 32 + k) % 95) + 32) for char, k in zip(message, key))\n",
        "    return encrypted, key\n",
        "\n",
        "def decrypt(encrypted_message, seed):\n",
        "    \"\"\"\n",
        "    Decrypt a message using the seed.\n",
        "    \"\"\"\n",
        "    key = generate_otp_key(len(encrypted_message), seed)\n",
        "    decrypted = ''.join(chr(((ord(char) - 32 - k) % 95) + 32) for char, k in zip(encrypted_message, key))\n",
        "    return decrypted\n",
        "\n",
        "# Example usage\n",
        "seed = \"Tariqul Islam\"  # Input seed for reproducibility\n",
        "message = \"Tareq\"         # Message to encrypt\n",
        "\n",
        "# Encrypt the message\n",
        "encrypted_message, key = encrypt(message, seed)\n",
        "print(\"Encrypted Output:\", encrypted_message)\n",
        "\n",
        "# Decrypt the message\n",
        "decrypted_message = decrypt(encrypted_message, seed)\n",
        "print(\"Decrypted Output:\", decrypted_message)\n"
      ],
      "metadata": {
        "colab": {
          "base_uri": "https://localhost:8080/"
        },
        "id": "y6clncr9WNuY",
        "outputId": "265ab1f9-87df-4859-93e4-1bc5baf4ae10"
      },
      "execution_count": 1,
      "outputs": [
        {
          "output_type": "stream",
          "name": "stdout",
          "text": [
            "Encrypted Output: Q-xS}\n",
            "Decrypted Output: Tareq\n"
          ]
        }
      ]
    }
  ]
}